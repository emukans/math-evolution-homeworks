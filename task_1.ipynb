{
 "cells": [
  {
   "cell_type": "code",
   "execution_count": null,
   "metadata": {},
   "outputs": [],
   "source": [
    "from math import sin, radians, acos, cos, degrees, sqrt, pow\n",
    "\n",
    "\n",
    "def calculate_angle(alpha_degrees: int, beta_degrees: int, gamma_degrees: int, omega_degrees: int) -> float:\n",
    "    alpha = radians(alpha_degrees)\n",
    "    beta = radians(beta_degrees)\n",
    "    gamma = radians(gamma_degrees)\n",
    "    omega = radians(omega_degrees)\n",
    "\n",
    "    cli_angle = gamma + omega\n",
    "    ucl_angle = alpha + beta\n",
    "\n",
    "    cdl_angle = radians(180) - alpha - gamma\n",
    "    cdu_angle = radians(180) - cdl_angle\n",
    "    cud_angle = radians(180) - beta - cdu_angle\n",
    "    cil_angle = radians(180) - omega - cdu_angle\n",
    "\n",
    "    cl_length = 1\n",
    "\n",
    "    ci_length = cl_length * sin(cli_angle) / sin(cil_angle)\n",
    "    ul_length = cl_length * sin(ucl_angle) / sin(cud_angle)\n",
    "    cd_length = cl_length * sin(gamma) / sin(cdl_angle)\n",
    "    dl_length = cl_length * sin(alpha) / sin(cdl_angle)\n",
    "\n",
    "    di_length = ci_length - cd_length\n",
    "    ud_length = ul_length - dl_length\n",
    "\n",
    "    dui_angle = degrees(acos((ud_length - di_length * cos(cdl_angle)) \\\n",
    "                             / sqrt(pow(ud_length, 2) + pow(di_length, 2) - 2 * ud_length * di_length * cos(cdl_angle))))\n",
    "\n",
    "    # print(round(dui_angle, 5))\n",
    "    \n",
    "    return dui_angle"
   ]
  },
  {
   "cell_type": "code",
   "execution_count": null,
   "metadata": {},
   "outputs": [],
   "source": [
    "# First task\n",
    "calculate_angle(50, 30, 60, 20)"
   ]
  },
  {
   "cell_type": "code",
   "execution_count": null,
   "metadata": {},
   "outputs": [],
   "source": [
    "# Second task\n",
    "result_list = []\n",
    "\n",
    "for alpha in range(1, 89):\n",
    "    for beta in range(1, 89):\n",
    "        for gamma in range(1, 89):\n",
    "            for omega in range(1, 89):\n",
    "                left_angle = (alpha + beta)\n",
    "                right_angle = (gamma + omega)\n",
    "                \n",
    "                if left_angle != left_angle:\n",
    "                    continue\n",
    "                \n",
    "                result_angle = calculate_angle(alpha, beta, gamma, omega)\n",
    "                \n",
    "                if round(result_angle, 5).is_integer():\n",
    "                    result_list.append((alpha, beta, gamma, omega))\n",
    "\n",
    "# All possible angles\n",
    "print(result_list)"
   ]
  },
  {
   "cell_type": "code",
   "execution_count": null,
   "metadata": {},
   "outputs": [],
   "source": []
  }
 ],
 "metadata": {
  "kernelspec": {
   "display_name": "Python 3",
   "language": "python",
   "name": "python3"
  },
  "language_info": {
   "codemirror_mode": {
    "name": "ipython",
    "version": 3
   },
   "file_extension": ".py",
   "mimetype": "text/x-python",
   "name": "python",
   "nbconvert_exporter": "python",
   "pygments_lexer": "ipython3",
   "version": "3.6.6"
  }
 },
 "nbformat": 4,
 "nbformat_minor": 1
}
